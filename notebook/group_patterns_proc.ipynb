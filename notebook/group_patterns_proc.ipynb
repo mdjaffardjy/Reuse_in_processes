{
 "cells": [
  {
   "cell_type": "code",
   "execution_count": 1,
   "metadata": {},
   "outputs": [],
   "source": [
    "import numpy as np\n",
    "import pandas as pd\n",
    "import matplotlib.pyplot as plt\n",
    "import functools\n",
    "import json\n",
    "from collections import Counter"
   ]
  },
  {
   "cell_type": "code",
   "execution_count": 2,
   "metadata": {},
   "outputs": [],
   "source": [
    "def importing_json_files(file_wf):\n",
    "    f_wf = open(file_wf) #informations for nf\n",
    "    # returns JSON object as\n",
    "    # a dictionary\n",
    "    wf = json.load(f_wf)\n",
    "    f_wf.close\n",
    "    return wf\n",
    "\n",
    "#importing the wf and auth dict (github info)\n",
    "dict_nf = importing_json_files('../json/source_files/wf_new_crawl_nextflow.json')\n",
    "auth_nf = importing_json_files('../json/source_files/author_clem_nf.json')\n",
    "\n",
    "#import processors dictionnaries\n",
    "with open('../json/source_files/nf_proc_tool_shell.json') as f:\n",
    "    nf_proc = json.load(f)\n",
    "    \n",
    "#importing the wf and auth dict (github info)\n",
    "dict_snk = importing_json_files('../json/source_files/wf_crawl_snakemake.json')\n",
    "auth_snk = importing_json_files('../json/source_files/author_clem_snk.json')\n",
    "\n",
    "#import processors dictionnaries\n",
    "with open('../json/source_files/snk_proc_tool_shell.json') as f:\n",
    "    snk_proc = json.load(f)"
   ]
  },
  {
   "cell_type": "markdown",
   "metadata": {},
   "source": [
    "In this notebook, we will display several experiences from which we gathered the various figures present in the paper."
   ]
  },
  {
   "cell_type": "markdown",
   "metadata": {},
   "source": [
    "### How are authors sharing their workflows ?\n",
    "\n",
    "To get a better idea about workflow contribution practices, we asked ourselves :\n",
    "- How many owners shared their workflows ?\n",
    "- How many workflows have the top 10 most proficient contributors shared ?\n",
    "- How many authors have shared more than one workflow ?"
   ]
  },
  {
   "cell_type": "code",
   "execution_count": 3,
   "metadata": {},
   "outputs": [
    {
     "name": "stdout",
     "output_type": "stream",
     "text": [
      " There are 1186 Nextflow workflows with at least one tool.\n"
     ]
    }
   ],
   "source": [
    "# List all the workflows with at least one tool\n",
    "# Nextflow\n",
    "\n",
    "wf_tools_nf_init = []\n",
    "for el in nf_proc:\n",
    "    wf_name = el[\"owner\"]+\"/\"+el[\"wf_orig\"]\n",
    "    wf_tools_nf_init.append(wf_name)\n",
    "wf_tools_nf_init = list(set(wf_tools_nf_init))\n",
    "\n",
    "# correct the list\n",
    "wf_tools_nf = []\n",
    "keys_dict_nf = list(dict_nf.keys())\n",
    "for el in wf_tools_nf_init :\n",
    "    if(el in keys_dict_nf):\n",
    "        wf_tools_nf.append(el)\n",
    "    else:\n",
    "        for el2 in keys_dict_nf:\n",
    "            if(el in el2):\n",
    "                wf_tools_nf.append(el2)\n",
    "                \n",
    "print(f\" There are {len(wf_tools_nf)} Nextflow workflows with at least one tool.\" )\n",
    "               "
   ]
  },
  {
   "cell_type": "code",
   "execution_count": 4,
   "metadata": {},
   "outputs": [
    {
     "name": "stdout",
     "output_type": "stream",
     "text": [
      " There are 1257 Snakemake workflows with at least one tool.\n"
     ]
    }
   ],
   "source": [
    "# Snakemake\n",
    "\n",
    "wf_tools_snk_init = []\n",
    "for el in snk_proc:\n",
    "    wf_tools_snk_init.append(el[\"wf_orig\"])\n",
    "wf_tools_snk_init = list(set(wf_tools_snk_init))\n",
    "len(wf_tools_snk_init)\n",
    "\n",
    "# correct the list\n",
    "wf_tools_snk = []\n",
    "for name_wf in wf_tools_snk_init:\n",
    "    if(len(name_wf.split(\"/\"))==3):\n",
    "        name_wf = name_wf.split(\"/\")[0]+\"/\"+name_wf.split(\"/\")[1]\n",
    "    wf_tools_snk.append(name_wf)\n",
    "\n",
    "print(f\" There are {len(wf_tools_snk)} Snakemake workflows with at least one tool.\" )\n",
    " "
   ]
  },
  {
   "cell_type": "code",
   "execution_count": 5,
   "metadata": {},
   "outputs": [
    {
     "name": "stdout",
     "output_type": "stream",
     "text": [
      "There are 650 Nextflow owners\n"
     ]
    }
   ],
   "source": [
    "# Nextflow authors\n",
    "auth_nf_occ = []\n",
    "for el in wf_tools_nf:\n",
    "    auth_nf_occ.append(dict_nf[el][\"owner\"])\n",
    "unique_auth_nf = list(set(auth_nf_occ))\n",
    "nb_tot_nf = len(unique_auth_nf)\n",
    "print(f\"There are {nb_tot_nf} Nextflow owners\")\n",
    "\n",
    "# number of workflow per author\n",
    "cnt_nf = Counter(auth_nf_occ)\n",
    "json_auth_nf = []\n",
    "for el in unique_auth_nf:\n",
    "    json_auth_nf.append({\"owner\":el,\"nb_wf\":cnt_nf[el]})\n",
    "df_auth_nf=pd.DataFrame(json_auth_nf)"
   ]
  },
  {
   "cell_type": "code",
   "execution_count": 6,
   "metadata": {},
   "outputs": [
    {
     "name": "stdout",
     "output_type": "stream",
     "text": [
      "There are 535 Snakemake owners\n"
     ]
    }
   ],
   "source": [
    "# Snakemake authors\n",
    "auth_snk_occ = []\n",
    "for el in wf_tools_snk:\n",
    "    auth_snk_occ.append(dict_snk[el][\"owner\"])\n",
    "unique_auth_snk = list(set(auth_snk_occ))\n",
    "nb_tot_snk = len(unique_auth_snk)\n",
    "print(f\"There are {nb_tot_snk} Snakemake owners\")\n",
    "\n",
    "# number of workflow per author\n",
    "cnt_snk = Counter(auth_snk_occ)\n",
    "json_auth_snk = []\n",
    "for el in unique_auth_snk:\n",
    "    json_auth_snk.append({\"owner\":el,\"nb_wf\":cnt_snk[el]})\n",
    "df_auth_snk=pd.DataFrame(json_auth_snk)"
   ]
  },
  {
   "cell_type": "code",
   "execution_count": 7,
   "metadata": {},
   "outputs": [
    {
     "name": "stdout",
     "output_type": "stream",
     "text": [
      " The top 10 owners have shared 170 (0.1433389544688027%) Nextflow workflows\n",
      " The top 10 owners have shared 191 (0.15194908512330946%) Snakemake workflows\n"
     ]
    }
   ],
   "source": [
    "# How many workflows have the 10 most proficient owners shared ?\n",
    "df_auth_snk = df_auth_snk.sort_values(by=\"nb_wf\", ascending = False)\n",
    "df_auth_nf = df_auth_nf.sort_values(by=\"nb_wf\", ascending = False)\n",
    "\n",
    "nb_wf_top_nf = sum(df_auth_nf[\"nb_wf\"][:10])\n",
    "nb_wf_top_snk = sum(df_auth_snk[\"nb_wf\"][:10])\n",
    "                    \n",
    "print(f\" The top 10 owners have shared {nb_wf_top_nf} ({nb_wf_top_nf/len(wf_tools_nf)}%) Nextflow workflows\")\n",
    "print(f\" The top 10 owners have shared {nb_wf_top_snk} ({nb_wf_top_snk/len(wf_tools_snk)}%) Snakemake workflows\")\n"
   ]
  },
  {
   "cell_type": "code",
   "execution_count": 8,
   "metadata": {},
   "outputs": [
    {
     "name": "stdout",
     "output_type": "stream",
     "text": [
      "30.923076923076927% of Nextflow owners have shared more than one workflow\n",
      "42.242990654205606% of Snakemake owners have shared more than one workflow\n"
     ]
    }
   ],
   "source": [
    "# How many authors have shared more than one workflow ?\n",
    "nb_auth_nf = len(df_auth_nf[df_auth_nf[\"nb_wf\"]>1])\n",
    "nb_auth_snk = len(df_auth_snk[df_auth_snk[\"nb_wf\"]>1])\n",
    "\n",
    "perc_auth_nf = nb_auth_nf/len(unique_auth_nf)\n",
    "perc_auth_snk = nb_auth_snk/len(unique_auth_snk)\n",
    "\n",
    "print(f\"{100*perc_auth_nf}% of Nextflow owners have shared more than one workflow\")\n",
    "print(f\"{100*perc_auth_snk}% of Snakemake owners have shared more than one workflow\")\n"
   ]
  },
  {
   "cell_type": "markdown",
   "metadata": {},
   "source": [
    "### What are the reuse practices in github ?\n",
    "\n",
    "In order to estimate workflow reuse in github, we take a look at the number of forks of these workflows. We compute the portion of workflows having more than x forks, x being 3, 5, 10 and 50."
   ]
  },
  {
   "cell_type": "code",
   "execution_count": 9,
   "metadata": {},
   "outputs": [],
   "source": [
    "# Making a table with the number of forks per workflow in Nextflow\n",
    "json_forks_nf = []\n",
    "for el in wf_tools_nf:\n",
    "    json_forks_nf.append({\"wf\":el,\"nb_forks\":dict_nf[el][\"forks\"]})\n",
    "df_forks_nf = pd.DataFrame(json_forks_nf)"
   ]
  },
  {
   "cell_type": "code",
   "execution_count": 10,
   "metadata": {},
   "outputs": [],
   "source": [
    "# Compute the percentages of workflows that have more than x forks\n",
    "fork3_nf = 100*len(df_forks_nf[df_forks_nf[\"nb_forks\"]>=3])/len(wf_tools_nf)\n",
    "fork5_nf = 100*len(df_forks_nf[df_forks_nf[\"nb_forks\"]>=5])/len(wf_tools_nf)\n",
    "fork10_nf = 100*len(df_forks_nf[df_forks_nf[\"nb_forks\"]>=10])/len(wf_tools_nf)\n",
    "fork50_nf = 100*len(df_forks_nf[df_forks_nf[\"nb_forks\"]>=50])/len(wf_tools_nf)\n"
   ]
  },
  {
   "cell_type": "code",
   "execution_count": 11,
   "metadata": {},
   "outputs": [
    {
     "name": "stdout",
     "output_type": "stream",
     "text": [
      "13.743676222596964% Nextflow workflows have more than 3 forks\n",
      "7.75716694772344% Nextflow workflows have more than 5 forks\n",
      "3.794266441821248% Nextflow workflows have more than 10 forks\n",
      "0.8431703204047217% Nextflow workflows have more than 50 forks\n"
     ]
    }
   ],
   "source": [
    "print(f\"{fork3_nf}% Nextflow workflows have more than 3 forks\")\n",
    "print(f\"{fork5_nf}% Nextflow workflows have more than 5 forks\")\n",
    "print(f\"{fork10_nf}% Nextflow workflows have more than 10 forks\")\n",
    "print(f\"{fork50_nf}% Nextflow workflows have more than 50 forks\")"
   ]
  },
  {
   "cell_type": "code",
   "execution_count": 12,
   "metadata": {},
   "outputs": [],
   "source": [
    "# Making a table with the number of forks per workflow in Snakemake\n",
    "json_forks_snk = []\n",
    "for el in wf_tools_snk:\n",
    "    json_forks_snk.append({\"wf\":el,\"nb_forks\":dict_snk[el][\"forks\"]})\n",
    "df_forks_snk = pd.DataFrame(json_forks_snk)"
   ]
  },
  {
   "cell_type": "code",
   "execution_count": 13,
   "metadata": {},
   "outputs": [],
   "source": [
    "# Compute the percentages of workflows that have more than x forks\n",
    "fork3_snk = 100*len(df_forks_snk[df_forks_snk[\"nb_forks\"]>=3])/len(wf_tools_snk)\n",
    "fork5_snk = 100*len(df_forks_snk[df_forks_snk[\"nb_forks\"]>=5])/len(wf_tools_snk)\n",
    "fork10_snk = 100*len(df_forks_snk[df_forks_snk[\"nb_forks\"]>=10])/len(wf_tools_snk)\n",
    "fork50_snk = 100*len(df_forks_snk[df_forks_snk[\"nb_forks\"]>=50])/len(wf_tools_snk)\n"
   ]
  },
  {
   "cell_type": "code",
   "execution_count": 14,
   "metadata": {},
   "outputs": [
    {
     "name": "stdout",
     "output_type": "stream",
     "text": [
      "14.558472553699284% Snakemake workflows have more than 3 forks\n",
      "7.875894988066825% Snakemake workflows have more than 5 forks\n",
      "4.614160700079554% Snakemake workflows have more than 10 forks\n",
      "0.15910898965791567% Snakemake workflows have more than 50 forks\n"
     ]
    }
   ],
   "source": [
    "print(f\"{fork3_snk}% Snakemake workflows have more than 3 forks\")\n",
    "print(f\"{fork5_snk}% Snakemake workflows have more than 5 forks\")\n",
    "print(f\"{fork10_snk}% Snakemake workflows have more than 10 forks\")\n",
    "print(f\"{fork50_snk}% Snakemake workflows have more than 50 forks\")"
   ]
  },
  {
   "cell_type": "markdown",
   "metadata": {},
   "source": [
    "### How are tools reused amongst workflows ?\n",
    "\n",
    "In this section, we will count the number of processors each single tool appear in (occurences of tools in processors) in Nextflow and Snakemake."
   ]
  },
  {
   "cell_type": "code",
   "execution_count": 15,
   "metadata": {},
   "outputs": [],
   "source": [
    "# occurences of tools in Nextflow\n",
    "tools_all_occ_nf=[]\n",
    "for el in nf_proc:\n",
    "    tools_all_occ_nf+=el[\"tools\"]\n",
    "\n",
    "# occurences of tools in Nextflow\n",
    "tools_all_occ_snk=[]\n",
    "for el in snk_proc:\n",
    "    tools_all_occ_snk+=el[\"tools\"]\n",
    "    \n",
    "#unique tools for Nextflow and Snakemake\n",
    "tools_counter_nf=Counter(tools_all_occ_nf)\n",
    "tools_counter_snk=Counter(tools_all_occ_snk)"
   ]
  },
  {
   "cell_type": "code",
   "execution_count": 16,
   "metadata": {},
   "outputs": [
    {
     "name": "stdout",
     "output_type": "stream",
     "text": [
      "20 Most used tools in Nextflow and their number of occurences\n"
     ]
    },
    {
     "data": {
      "text/html": [
       "<div>\n",
       "<style scoped>\n",
       "    .dataframe tbody tr th:only-of-type {\n",
       "        vertical-align: middle;\n",
       "    }\n",
       "\n",
       "    .dataframe tbody tr th {\n",
       "        vertical-align: top;\n",
       "    }\n",
       "\n",
       "    .dataframe thead th {\n",
       "        text-align: right;\n",
       "    }\n",
       "</style>\n",
       "<table border=\"1\" class=\"dataframe\">\n",
       "  <thead>\n",
       "    <tr style=\"text-align: right;\">\n",
       "      <th></th>\n",
       "      <th>tool</th>\n",
       "      <th>nb_occurences</th>\n",
       "    </tr>\n",
       "  </thead>\n",
       "  <tbody>\n",
       "    <tr>\n",
       "      <th>222</th>\n",
       "      <td>SAMtools</td>\n",
       "      <td>2841</td>\n",
       "    </tr>\n",
       "    <tr>\n",
       "      <th>208</th>\n",
       "      <td>GATK</td>\n",
       "      <td>1067</td>\n",
       "    </tr>\n",
       "    <tr>\n",
       "      <th>98</th>\n",
       "      <td>BCFtools</td>\n",
       "      <td>929</td>\n",
       "    </tr>\n",
       "    <tr>\n",
       "      <th>23</th>\n",
       "      <td>FastQC</td>\n",
       "      <td>770</td>\n",
       "    </tr>\n",
       "    <tr>\n",
       "      <th>577</th>\n",
       "      <td>MultiQC</td>\n",
       "      <td>707</td>\n",
       "    </tr>\n",
       "    <tr>\n",
       "      <th>43</th>\n",
       "      <td>BWA</td>\n",
       "      <td>412</td>\n",
       "    </tr>\n",
       "    <tr>\n",
       "      <th>36</th>\n",
       "      <td>BEDTools</td>\n",
       "      <td>384</td>\n",
       "    </tr>\n",
       "    <tr>\n",
       "      <th>77</th>\n",
       "      <td>Picard</td>\n",
       "      <td>269</td>\n",
       "    </tr>\n",
       "    <tr>\n",
       "      <th>303</th>\n",
       "      <td>Bowtie</td>\n",
       "      <td>243</td>\n",
       "    </tr>\n",
       "    <tr>\n",
       "      <th>510</th>\n",
       "      <td>STAR</td>\n",
       "      <td>234</td>\n",
       "    </tr>\n",
       "    <tr>\n",
       "      <th>573</th>\n",
       "      <td>QIIME</td>\n",
       "      <td>207</td>\n",
       "    </tr>\n",
       "    <tr>\n",
       "      <th>31</th>\n",
       "      <td>Salmon</td>\n",
       "      <td>160</td>\n",
       "    </tr>\n",
       "    <tr>\n",
       "      <th>127</th>\n",
       "      <td>Minimap2</td>\n",
       "      <td>149</td>\n",
       "    </tr>\n",
       "    <tr>\n",
       "      <th>192</th>\n",
       "      <td>fastPHASE</td>\n",
       "      <td>132</td>\n",
       "    </tr>\n",
       "    <tr>\n",
       "      <th>578</th>\n",
       "      <td>QualiMap</td>\n",
       "      <td>105</td>\n",
       "    </tr>\n",
       "    <tr>\n",
       "      <th>446</th>\n",
       "      <td>seqtk</td>\n",
       "      <td>96</td>\n",
       "    </tr>\n",
       "    <tr>\n",
       "      <th>395</th>\n",
       "      <td>Sambamba</td>\n",
       "      <td>90</td>\n",
       "    </tr>\n",
       "    <tr>\n",
       "      <th>324</th>\n",
       "      <td>kraken2</td>\n",
       "      <td>82</td>\n",
       "    </tr>\n",
       "    <tr>\n",
       "      <th>120</th>\n",
       "      <td>Cutadapt</td>\n",
       "      <td>80</td>\n",
       "    </tr>\n",
       "    <tr>\n",
       "      <th>376</th>\n",
       "      <td>HISAT2</td>\n",
       "      <td>79</td>\n",
       "    </tr>\n",
       "  </tbody>\n",
       "</table>\n",
       "</div>"
      ],
      "text/plain": [
       "          tool  nb_occurences\n",
       "222   SAMtools           2841\n",
       "208       GATK           1067\n",
       "98    BCFtools            929\n",
       "23      FastQC            770\n",
       "577    MultiQC            707\n",
       "43         BWA            412\n",
       "36    BEDTools            384\n",
       "77      Picard            269\n",
       "303     Bowtie            243\n",
       "510       STAR            234\n",
       "573      QIIME            207\n",
       "31      Salmon            160\n",
       "127   Minimap2            149\n",
       "192  fastPHASE            132\n",
       "578   QualiMap            105\n",
       "446      seqtk             96\n",
       "395   Sambamba             90\n",
       "324    kraken2             82\n",
       "120   Cutadapt             80\n",
       "376     HISAT2             79"
      ]
     },
     "execution_count": 16,
     "metadata": {},
     "output_type": "execute_result"
    }
   ],
   "source": [
    "# Counting and sorting the number of occurences of the tools in Nextflow\n",
    "usage_nf = []\n",
    "for tool in set(tools_all_occ_nf):\n",
    "    usage_nf.append({\"tool\":tool,\n",
    "                              \"nb_occurences\":tools_counter_nf[tool]})\n",
    "usage_nf_df = pd.DataFrame(usage_nf)\n",
    "usage_nf_df = usage_nf_df.sort_values(by=\"nb_occurences\",ascending=False)\n",
    "print(\"20 Most used tools in Nextflow and their number of occurences\")\n",
    "usage_nf_df.head(20)"
   ]
  },
  {
   "cell_type": "code",
   "execution_count": 17,
   "metadata": {
    "scrolled": true
   },
   "outputs": [
    {
     "name": "stdout",
     "output_type": "stream",
     "text": [
      "20 Most used tools in Snakemake and their number of occurences\n"
     ]
    },
    {
     "data": {
      "text/html": [
       "<div>\n",
       "<style scoped>\n",
       "    .dataframe tbody tr th:only-of-type {\n",
       "        vertical-align: middle;\n",
       "    }\n",
       "\n",
       "    .dataframe tbody tr th {\n",
       "        vertical-align: top;\n",
       "    }\n",
       "\n",
       "    .dataframe thead th {\n",
       "        text-align: right;\n",
       "    }\n",
       "</style>\n",
       "<table border=\"1\" class=\"dataframe\">\n",
       "  <thead>\n",
       "    <tr style=\"text-align: right;\">\n",
       "      <th></th>\n",
       "      <th>tool</th>\n",
       "      <th>nb_occurences</th>\n",
       "    </tr>\n",
       "  </thead>\n",
       "  <tbody>\n",
       "    <tr>\n",
       "      <th>114</th>\n",
       "      <td>SAMtools</td>\n",
       "      <td>2045</td>\n",
       "    </tr>\n",
       "    <tr>\n",
       "      <th>21</th>\n",
       "      <td>BEDTools</td>\n",
       "      <td>603</td>\n",
       "    </tr>\n",
       "    <tr>\n",
       "      <th>58</th>\n",
       "      <td>BCFtools</td>\n",
       "      <td>360</td>\n",
       "    </tr>\n",
       "    <tr>\n",
       "      <th>25</th>\n",
       "      <td>BWA</td>\n",
       "      <td>356</td>\n",
       "    </tr>\n",
       "    <tr>\n",
       "      <th>108</th>\n",
       "      <td>GATK</td>\n",
       "      <td>269</td>\n",
       "    </tr>\n",
       "    <tr>\n",
       "      <th>88</th>\n",
       "      <td>Augur</td>\n",
       "      <td>260</td>\n",
       "    </tr>\n",
       "    <tr>\n",
       "      <th>14</th>\n",
       "      <td>FastQC</td>\n",
       "      <td>236</td>\n",
       "    </tr>\n",
       "    <tr>\n",
       "      <th>162</th>\n",
       "      <td>Bowtie</td>\n",
       "      <td>177</td>\n",
       "    </tr>\n",
       "    <tr>\n",
       "      <th>279</th>\n",
       "      <td>STAR</td>\n",
       "      <td>152</td>\n",
       "    </tr>\n",
       "    <tr>\n",
       "      <th>308</th>\n",
       "      <td>MultiQC</td>\n",
       "      <td>137</td>\n",
       "    </tr>\n",
       "    <tr>\n",
       "      <th>70</th>\n",
       "      <td>Minimap2</td>\n",
       "      <td>118</td>\n",
       "    </tr>\n",
       "    <tr>\n",
       "      <th>46</th>\n",
       "      <td>Picard</td>\n",
       "      <td>102</td>\n",
       "    </tr>\n",
       "    <tr>\n",
       "      <th>270</th>\n",
       "      <td>VGA</td>\n",
       "      <td>97</td>\n",
       "    </tr>\n",
       "    <tr>\n",
       "      <th>245</th>\n",
       "      <td>seqtk</td>\n",
       "      <td>94</td>\n",
       "    </tr>\n",
       "    <tr>\n",
       "      <th>331</th>\n",
       "      <td>bedGraphToBigWig</td>\n",
       "      <td>93</td>\n",
       "    </tr>\n",
       "    <tr>\n",
       "      <th>306</th>\n",
       "      <td>QIIME</td>\n",
       "      <td>90</td>\n",
       "    </tr>\n",
       "    <tr>\n",
       "      <th>241</th>\n",
       "      <td>PLINK</td>\n",
       "      <td>84</td>\n",
       "    </tr>\n",
       "    <tr>\n",
       "      <th>154</th>\n",
       "      <td>VCFtools</td>\n",
       "      <td>82</td>\n",
       "    </tr>\n",
       "    <tr>\n",
       "      <th>67</th>\n",
       "      <td>Cutadapt</td>\n",
       "      <td>81</td>\n",
       "    </tr>\n",
       "    <tr>\n",
       "      <th>157</th>\n",
       "      <td>FeatureCounts</td>\n",
       "      <td>63</td>\n",
       "    </tr>\n",
       "  </tbody>\n",
       "</table>\n",
       "</div>"
      ],
      "text/plain": [
       "                 tool  nb_occurences\n",
       "114          SAMtools           2045\n",
       "21           BEDTools            603\n",
       "58           BCFtools            360\n",
       "25                BWA            356\n",
       "108              GATK            269\n",
       "88              Augur            260\n",
       "14             FastQC            236\n",
       "162            Bowtie            177\n",
       "279              STAR            152\n",
       "308           MultiQC            137\n",
       "70           Minimap2            118\n",
       "46             Picard            102\n",
       "270               VGA             97\n",
       "245             seqtk             94\n",
       "331  bedGraphToBigWig             93\n",
       "306             QIIME             90\n",
       "241             PLINK             84\n",
       "154          VCFtools             82\n",
       "67           Cutadapt             81\n",
       "157     FeatureCounts             63"
      ]
     },
     "execution_count": 17,
     "metadata": {},
     "output_type": "execute_result"
    }
   ],
   "source": [
    "# Counting and sorting the number of occurences of the tools in Snakemake\n",
    "usage_snk = []\n",
    "for tool in set(tools_all_occ_snk):\n",
    "    usage_snk.append({\"tool\":tool,\n",
    "                              \"nb_occurences\":tools_counter_snk[tool]})\n",
    "usage_snk_df = pd.DataFrame(usage_snk)\n",
    "usage_snk_df = usage_snk_df.sort_values(by=\"nb_occurences\",ascending=False)\n",
    "print(\"20 Most used tools in Snakemake and their number of occurences\")\n",
    "usage_snk_df.head(20)"
   ]
  },
  {
   "cell_type": "code",
   "execution_count": 18,
   "metadata": {},
   "outputs": [],
   "source": [
    "def intersection(lst1, lst2):\n",
    "    lst3 = [value for value in lst1 if value in lst2]\n",
    "    return lst3"
   ]
  },
  {
   "cell_type": "code",
   "execution_count": 19,
   "metadata": {},
   "outputs": [
    {
     "name": "stdout",
     "output_type": "stream",
     "text": [
      " There are 14 tools that are in the top 20 most used tools of both Nextflow and Snakemake\n",
      " There are 9 tools that are in the top 10 most used tools of both Nextflow and Snakemake\n"
     ]
    }
   ],
   "source": [
    "# intersection of n most used tools in Snakemake and Nextflow\n",
    "set1 = []\n",
    "set2 =[]\n",
    "for i in range(0,20):\n",
    "    set1.append(tools_counter_nf.most_common()[i][0])\n",
    "    set2.append(tools_counter_snk.most_common()[i][0])\n",
    "print(f\" There are {len(intersection(set1,set2))} tools that are in the top 20 most used tools of both Nextflow and Snakemake\")\n",
    "                    \n",
    "set1 = []\n",
    "set2 =[]\n",
    "for i in range(0,10):\n",
    "    set1.append(tools_counter_nf.most_common()[i][0])\n",
    "    set2.append(tools_counter_snk.most_common()[i][0])\n",
    "print(f\" There are {len(intersection(set1,set2))} tools that are in the top 10 most used tools of both Nextflow and Snakemake\")"
   ]
  },
  {
   "cell_type": "code",
   "execution_count": null,
   "metadata": {},
   "outputs": [],
   "source": []
  }
 ],
 "metadata": {
  "kernelspec": {
   "display_name": "Python 3 (ipykernel)",
   "language": "python",
   "name": "python3"
  },
  "language_info": {
   "codemirror_mode": {
    "name": "ipython",
    "version": 3
   },
   "file_extension": ".py",
   "mimetype": "text/x-python",
   "name": "python",
   "nbconvert_exporter": "python",
   "pygments_lexer": "ipython3",
   "version": "3.8.5"
  }
 },
 "nbformat": 4,
 "nbformat_minor": 4
}
